{
  "nbformat": 4,
  "nbformat_minor": 0,
  "metadata": {
    "colab": {
      "name": "SummerOlympics.ipynb",
      "provenance": [],
      "collapsed_sections": []
    },
    "kernelspec": {
      "name": "python3",
      "display_name": "Python 3"
    },
    "language_info": {
      "name": "python"
    }
  },
  "cells": [
    {
      "cell_type": "markdown",
      "metadata": {
        "id": "SZTdWTdALSJS"
      },
      "source": [
        "**Summer Olympics Data Analysis Assignment**"
      ]
    },
    {
      "cell_type": "code",
      "metadata": {
        "id": "575N_cYcL0bf"
      },
      "source": [
        "import pandas as pd\n",
        "import numpy as np\n",
        "import matplotlib.pyplot as plt"
      ],
      "execution_count": 4,
      "outputs": []
    },
    {
      "cell_type": "code",
      "metadata": {
        "id": "hbbBJ-ZrMKtA"
      },
      "source": [
        "df = pd.read_csv(\"summer.csv\")"
      ],
      "execution_count": 5,
      "outputs": []
    },
    {
      "cell_type": "markdown",
      "metadata": {
        "id": "quZ4YTudLXrd"
      },
      "source": [
        "**1. In how many cities Summer Olympics is held so far?**"
      ]
    },
    {
      "cell_type": "code",
      "metadata": {
        "id": "HzEYvMGJLmRe",
        "colab": {
          "base_uri": "https://localhost:8080/"
        },
        "outputId": "8dced94d-bf6f-4288-ffe8-60fd38defffa"
      },
      "source": [
        "city = df[\"City\"].value_counts()\n",
        "city.count()"
      ],
      "execution_count": 6,
      "outputs": [
        {
          "output_type": "execute_result",
          "data": {
            "text/plain": [
              "22"
            ]
          },
          "metadata": {},
          "execution_count": 6
        }
      ]
    },
    {
      "cell_type": "markdown",
      "metadata": {
        "id": "RrUr6vsdqT9Q"
      },
      "source": [
        "Another way..."
      ]
    },
    {
      "cell_type": "code",
      "metadata": {
        "id": "c2hHLXOspsIi",
        "colab": {
          "base_uri": "https://localhost:8080/"
        },
        "outputId": "2d8605f0-e1c0-42aa-ebee-b8cf0aa94454"
      },
      "source": [
        "c = df['City'].unique()\n",
        "len(c)"
      ],
      "execution_count": 7,
      "outputs": [
        {
          "output_type": "execute_result",
          "data": {
            "text/plain": [
              "22"
            ]
          },
          "metadata": {},
          "execution_count": 7
        }
      ]
    },
    {
      "cell_type": "markdown",
      "metadata": {
        "id": "VB_85RWimHBR"
      },
      "source": [
        "**2. Which sport is having most number of Gold Medals so far? (Top 5)**"
      ]
    },
    {
      "cell_type": "code",
      "metadata": {
        "id": "I61mCkTspXTi",
        "colab": {
          "base_uri": "https://localhost:8080/",
          "height": 399
        },
        "outputId": "81cd269a-61f4-40a4-e326-a35ef288390f"
      },
      "source": [
        "data = []\n",
        "\n",
        "goldMedal = df.apply(lambda x : True\n",
        "            if x['Medal'] == \"Gold\" else False, axis = 1)\n",
        "\n",
        "for Sport in df['Sport'].unique():\n",
        "    data.append([Sport , len(df[df['Sport']  == Sport])])\n",
        "\n",
        "pd.DataFrame(data,columns = ['Sport','goldMedal']).sort_values(by='goldMedal', ascending=False).head().plot(x = 'Sport', y = 'goldMedal', kind = 'bar', figsize = (5,5))"
      ],
      "execution_count": 8,
      "outputs": [
        {
          "output_type": "execute_result",
          "data": {
            "text/plain": [
              "<matplotlib.axes._subplots.AxesSubplot at 0x7fd702977810>"
            ]
          },
          "metadata": {},
          "execution_count": 8
        },
        {
          "output_type": "display_data",
          "data": {
            "image/png": "[encoded data removed]",
            "text/plain": [
              "<Figure size 360x360 with 1 Axes>"
            ]
          },
          "metadata": {
            "needs_background": "light"
          }
        }
      ]
    },
    {
      "cell_type": "markdown",
      "metadata": {
        "id": "vBl_ckJlwVU-"
      },
      "source": [
        "**3. Which sport is having most number of medals so far?**"
      ]
    },
    {
      "cell_type": "code",
      "metadata": {
        "id": "0YB0esZnwUXO",
        "colab": {
          "base_uri": "https://localhost:8080/",
          "height": 399
        },
        "outputId": "d97ca583-867e-41de-c5bf-107f31f2ccb8"
      },
      "source": [
        "data = []\n",
        "\n",
        "for Sport in df['Sport'].unique():\n",
        "    data.append([Sport , len(df[df['Sport']  == Sport])])\n",
        "\n",
        "pd.DataFrame(data,columns = ['Sport','freq']).sort_values(by='freq', ascending=False).head().plot(x = 'Sport', y = 'freq', kind = 'bar', figsize = (5,5))"
      ],
      "execution_count": 9,
      "outputs": [
        {
          "output_type": "execute_result",
          "data": {
            "text/plain": [
              "<matplotlib.axes._subplots.AxesSubplot at 0x7fd702503290>"
            ]
          },
          "metadata": {},
          "execution_count": 9
        },
        {
          "output_type": "display_data",
          "data": {
            "image/png": "[encoded data removed]",
            "text/plain": [
              "<Figure size 360x360 with 1 Axes>"
            ]
          },
          "metadata": {
            "needs_background": "light"
          }
        }
      ]
    },
    {
      "cell_type": "markdown",
      "metadata": {
        "id": "m8MIimDHxkh1"
      },
      "source": [
        "**4. Which player has won most number of medals? (Top 5)**"
      ]
    },
    {
      "cell_type": "code",
      "metadata": {
        "id": "5gs20Msuxm4p",
        "colab": {
          "base_uri": "https://localhost:8080/",
          "height": 458
        },
        "outputId": "704229dc-d289-4843-be1b-503c521d774e"
      },
      "source": [
        "data = []\n",
        "\n",
        "for Athlete in df['Athlete'].unique():\n",
        "    data.append([Athlete , len(df[df['Athlete']  == Athlete])])\n",
        "\n",
        "pd.DataFrame(data,columns = ['Athlete','freq']).sort_values(by='freq', ascending=False).head().plot(x = 'Athlete', y = 'freq', kind = 'bar', figsize = (5,5))"
      ],
      "execution_count": 10,
      "outputs": [
        {
          "output_type": "execute_result",
          "data": {
            "text/plain": [
              "<matplotlib.axes._subplots.AxesSubplot at 0x7fd708e8e110>"
            ]
          },
          "metadata": {},
          "execution_count": 10
        },
        {
          "output_type": "display_data",
          "data": {
            "image/png": "[encoded data removed]",
            "text/plain": [
              "<Figure size 360x360 with 1 Axes>"
            ]
          },
          "metadata": {
            "needs_background": "light"
          }
        }
      ]
    },
    {
      "cell_type": "markdown",
      "metadata": {
        "id": "Ipx3vffZzBQ6"
      },
      "source": [
        "**5. Which player has won most number Gold Medals of medals? (Top 5)**"
      ]
    },
    {
      "cell_type": "code",
      "metadata": {
        "id": "Vj4Ga1TRzAWb",
        "colab": {
          "base_uri": "https://localhost:8080/",
          "height": 458
        },
        "outputId": "89fded62-afa2-4157-d4be-95e8066025c8"
      },
      "source": [
        "data = []\n",
        "\n",
        "goldMedal = df.apply(lambda x : True\n",
        "            if x['Medal'] == \"Gold\" else False, axis = 1)\n",
        "\n",
        "for Athlete in df['Athlete'].unique():\n",
        "    data.append([Athlete , len(df[df['Athlete']  == Athlete])])\n",
        "\n",
        "pd.DataFrame(data,columns = ['Athlete','goldMedal']).sort_values(by='goldMedal', ascending=False).head().plot(x = 'Athlete', y = 'goldMedal', kind = 'bar', figsize = (5,5))"
      ],
      "execution_count": 11,
      "outputs": [
        {
          "output_type": "execute_result",
          "data": {
            "text/plain": [
              "<matplotlib.axes._subplots.AxesSubplot at 0x7fd702791f50>"
            ]
          },
          "metadata": {},
          "execution_count": 11
        },
        {
          "output_type": "display_data",
          "data": {
            "image/png": "[encoded data removed]",
            "text/plain": [
              "<Figure size 360x360 with 1 Axes>"
            ]
          },
          "metadata": {
            "needs_background": "light"
          }
        }
      ]
    },
    {
      "cell_type": "markdown",
      "metadata": {
        "id": "jSaKxPF1zhuK"
      },
      "source": [
        "**6. In which year India won first Gold Medal in Summer Olympics?**"
      ]
    },
    {
      "cell_type": "code",
      "metadata": {
        "id": "_VITZj0JzoD8",
        "colab": {
          "base_uri": "https://localhost:8080/"
        },
        "outputId": "8e036d44-4051-4f13-ad60-3a506339b17e"
      },
      "source": [
        "ind = df[(df['Country'] == 'IND') & (df['Medal'] == 'Gold')]\n",
        "ind.iloc[0]['Year']"
      ],
      "execution_count": 12,
      "outputs": [
        {
          "output_type": "execute_result",
          "data": {
            "text/plain": [
              "1928"
            ]
          },
          "metadata": {},
          "execution_count": 12
        }
      ]
    },
    {
      "cell_type": "markdown",
      "metadata": {
        "id": "8Jowx2FC4Squ"
      },
      "source": [
        "**7. Which event is most popular in terms on number of players? (Top 5)**"
      ]
    },
    {
      "cell_type": "code",
      "metadata": {
        "id": "riUwOGKv4Z0W",
        "colab": {
          "base_uri": "https://localhost:8080/",
          "height": 431
        },
        "outputId": "e3aff14e-8794-4d5f-d281-bcc3d63c3f53"
      },
      "source": [
        "data = []\n",
        "\n",
        "for Event in df['Event'].unique():\n",
        "    data.append([Event , len(df[df['Event']  == Event])])\n",
        "\n",
        "pd.DataFrame(data,columns = ['Event','freq']).sort_values(by='freq', ascending=False).head().plot(x = 'Event', y = 'freq', kind = 'bar', figsize = (5,5))"
      ],
      "execution_count": 13,
      "outputs": [
        {
          "output_type": "execute_result",
          "data": {
            "text/plain": [
              "<matplotlib.axes._subplots.AxesSubplot at 0x7fd7028ab650>"
            ]
          },
          "metadata": {},
          "execution_count": 13
        },
        {
          "output_type": "display_data",
          "data": {
            "image/png": "[encoded data removed]",
            "text/plain": [
              "<Figure size 360x360 with 1 Axes>"
            ]
          },
          "metadata": {
            "needs_background": "light"
          }
        }
      ]
    },
    {
      "cell_type": "markdown",
      "metadata": {
        "id": "CqHpZyye45GW"
      },
      "source": [
        "**8. Which sport is having most female Gold Medalists? (Top 5)**"
      ]
    },
    {
      "cell_type": "code",
      "metadata": {
        "id": "4qrnRTrl6mVy",
        "colab": {
          "base_uri": "https://localhost:8080/",
          "height": 399
        },
        "outputId": "14dbb1ae-c200-47e1-aece-7886fa676b46"
      },
      "source": [
        "data = []\n",
        "\n",
        "female = df.apply(lambda x : True\n",
        "            if (x['Gender'] == \"Women\") & (x['Medal'] == \"Gold\") else False, axis = 1)\n",
        "\n",
        "for Sport in df['Sport'].unique():\n",
        "    data.append([Sport , len(df[df['Sport']  == Sport])])\n",
        "\n",
        "pd.DataFrame(data,columns = ['Sport','female']).sort_values(by='female', ascending=False).head().plot(x = 'Sport', y = 'female', kind = 'bar', figsize = (5,5))"
      ],
      "execution_count": 14,
      "outputs": [
        {
          "output_type": "execute_result",
          "data": {
            "text/plain": [
              "<matplotlib.axes._subplots.AxesSubplot at 0x7fd7028bc790>"
            ]
          },
          "metadata": {},
          "execution_count": 14
        },
        {
          "output_type": "display_data",
          "data": {
            "image/png": "[encoded data removed]",
            "text/plain": [
              "<Figure size 360x360 with 1 Axes>"
            ]
          },
          "metadata": {
            "needs_background": "light"
          }
        }
      ]
    },
    {
      "cell_type": "code",
      "metadata": {
        "id": "Ajl8YtvwONKi"
      },
      "source": [
        ""
      ],
      "execution_count": 14,
      "outputs": []
    }
  ]
}